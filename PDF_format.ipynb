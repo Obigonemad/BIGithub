{
 "cells": [
  {
   "cell_type": "markdown",
   "id": "e78dbde1-e994-4897-b3f4-04decfa777e4",
   "metadata": {},
   "source": [
    "# ETL on PDF"
   ]
  },
  {
   "cell_type": "markdown",
   "id": "b5446f73-647c-4de3-9239-6ed5c131eb57",
   "metadata": {},
   "source": [
    "## Imports"
   ]
  },
  {
   "cell_type": "code",
   "execution_count": null,
   "id": "ab8c46fd-c74c-44b3-840b-284e3fc09eaa",
   "metadata": {},
   "outputs": [],
   "source": [
    "import os\n",
    "import PyPDF2\n",
    "import pandas as pd\n",
    "from collections import Counter\n",
    "from wordcloud import WordCloud\n",
    "import matplotlib.pyplot as plt"
   ]
  },
  {
   "cell_type": "markdown",
   "id": "e3450bf9-f67b-4487-a23a-f01dd9ff5c65",
   "metadata": {},
   "source": [
    "## Data Loading "
   ]
  },
  {
   "cell_type": "code",
   "execution_count": null,
   "id": "78c7e228-0148-4868-9127-58a7c118d3d9",
   "metadata": {},
   "outputs": [],
   "source": [
    "def load_all_pdfs_pypdf2(folder_path):\n",
    "    all_data = []\n",
    "\n",
    "    for filename in os.listdir(folder_path):\n",
    "        if filename.lower().endswith(\".pdf\"):\n",
    "            file_path = os.path.join(folder_path, filename)\n",
    "            try:\n",
    "                with open(file_path, 'rb') as f:\n",
    "                    reader = PyPDF2.PdfReader(f)\n",
    "                    for page_num, page in enumerate(reader.pages):\n",
    "                        text = page.extract_text()\n",
    "                        if text:\n",
    "                            lines = text.split('\\n')\n",
    "                            for line in lines:\n",
    "                                clean_line = line.strip()\n",
    "                                if clean_line:\n",
    "                                    all_data.append({\n",
    "                                        'file': filename,\n",
    "                                        'page': page_num + 1,\n",
    "                                        'line': clean_line\n",
    "                                    })\n",
    "            except Exception as e:\n",
    "                print(f\"Error reading {filename}: {e}\")\n",
    "    \n",
    "    return pd.DataFrame(all_data)\n"
   ]
  },
  {
   "cell_type": "markdown",
   "id": "ddfee345-7959-44c8-8830-8de4215d2ff4",
   "metadata": {},
   "source": [
    "## Clean PDF Data"
   ]
  },
  {
   "cell_type": "code",
   "execution_count": null,
   "id": "f6cbf556-088e-4ba3-82d4-ab4cd26eaae2",
   "metadata": {},
   "outputs": [],
   "source": [
    "def clean_pdf_df(df):\n",
    "    # Strip leading and trailing whitespace\n",
    "    df['line'] = df['line'].str.strip()\n",
    "    \n",
    "    # Remove empty rows\n",
    "    df = df[df['line'] != '']\n",
    "    \n",
    "    # Remove duplicate words in each 'line'\n",
    "    df['line'] = df['line'].apply(lambda x: ' '.join(sorted(set(x.split()), key=x.split().index)))\n",
    "    \n",
    "    # Remove duplicate rows based on the 'line' column\n",
    "    df = df.drop_duplicates(subset=['line'])\n",
    "    \n",
    "    # Reset the index\n",
    "    return df.reset_index(drop=True)"
   ]
  },
  {
   "cell_type": "markdown",
   "id": "31b9a45d-f03a-44c6-9b97-3cc1ffcf6eed",
   "metadata": {},
   "source": [
    "## Explore or Transform"
   ]
  },
  {
   "cell_type": "code",
   "execution_count": null,
   "id": "219d2a1e-7adc-44d1-b62c-924a54e5b955",
   "metadata": {},
   "outputs": [],
   "source": [
    "def word_frequency(df):\n",
    "    words = ' '.join(df['line']).split()\n",
    "    return Counter(words)"
   ]
  },
  {
   "cell_type": "markdown",
   "id": "4929b199-e289-4f80-952b-6ab926642728",
   "metadata": {},
   "source": [
    "## Example Usage"
   ]
  },
  {
   "cell_type": "code",
   "execution_count": null,
   "id": "80a307bb-51e0-4f4a-918a-bcbfa1707173",
   "metadata": {},
   "outputs": [],
   "source": [
    "folder_path = \"data/pdfs\"  # Your folder path\n",
    "pdf_df = load_all_pdfs_pypdf2(folder_path)\n",
    "pdf_df = clean_pdf_df(pdf_df)\n",
    "word_count = word_frequency(pdf_df)\n",
    "print(word_count.most_common(5)) ## word amount of word apperances \n",
    "print(pdf_df.head())\n",
    "print(pdf_df.tail())"
   ]
  },
  {
   "cell_type": "markdown",
   "id": "3c6378db-db91-42d9-af73-570011d43ac2",
   "metadata": {},
   "source": [
    "## Visualize PDF"
   ]
  },
  {
   "cell_type": "code",
   "execution_count": null,
   "id": "c12c4bb5-1e84-4bff-b1ee-4c259ae701bf",
   "metadata": {},
   "outputs": [],
   "source": [
    "def plot_wordcloud(text):\n",
    "    wc = WordCloud(width=1200, height=800, background_color='white').generate(text)\n",
    "    plt.imshow(wc, interpolation='bilinear')\n",
    "    plt.axis('off')\n",
    "    plt.title(\"Word Cloud from PDFs\")\n",
    "    plt.show()\n",
    "\n",
    "all_text = ' '.join(pdf_df['line'])\n",
    "plot_wordcloud(all_text)"
   ]
  },
  {
   "cell_type": "code",
   "execution_count": null,
   "id": "86a892c8-968a-4ca0-9eb2-49c41edc99be",
   "metadata": {},
   "outputs": [],
   "source": []
  }
 ],
 "metadata": {
  "kernelspec": {
   "display_name": "Python [conda env:base] *",
   "language": "python",
   "name": "conda-base-py"
  },
  "language_info": {
   "codemirror_mode": {
    "name": "ipython",
    "version": 3
   },
   "file_extension": ".py",
   "mimetype": "text/x-python",
   "name": "python",
   "nbconvert_exporter": "python",
   "pygments_lexer": "ipython3",
   "version": "3.12.7"
  }
 },
 "nbformat": 4,
 "nbformat_minor": 5
}
