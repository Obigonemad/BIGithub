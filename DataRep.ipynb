{
 "cells": [
  {
   "cell_type": "markdown",
   "id": "40341164-ea2d-4dc7-937e-d9ca46071e84",
   "metadata": {},
   "source": [
    "# Data Representation"
   ]
  },
  {
   "cell_type": "markdown",
   "id": "58de657b-986d-4840-b9fd-14c2db5f9082",
   "metadata": {},
   "source": [
    "## Imports"
   ]
  },
  {
   "cell_type": "code",
   "execution_count": 7,
   "id": "2b91e532-ce88-45f8-943b-477fe95a7cb1",
   "metadata": {},
   "outputs": [],
   "source": [
    "import pandas as pd "
   ]
  },
  {
   "cell_type": "markdown",
   "id": "c6783284-4941-4efc-a5ad-b85251000e05",
   "metadata": {},
   "source": [
    "## Data Loading "
   ]
  },
  {
   "cell_type": "code",
   "execution_count": null,
   "id": "dadca79d-d101-46ff-84e7-6816fbeed209",
   "metadata": {},
   "outputs": [],
   "source": [
    "## had to make it raw for make it work\n",
    "url1 = \"https://raw.githubusercontent.com/TrainingByPackt/Data-Science-with-Python/refs/heads/master/Chapter01/Data/USA_Housing.csv\""
   ]
  },
  {
   "cell_type": "code",
   "execution_count": null,
   "id": "876c3219-95ca-486f-ad1b-63b9a300cf00",
   "metadata": {},
   "outputs": [],
   "source": [
    "url2 = \"https://raw.githubusercontent.com/TrainingByPackt/Data-Science-with-Python/refs/heads/master/Chapter01/Data/Banking_Marketing.csv\""
   ]
  },
  {
   "cell_type": "code",
   "execution_count": null,
   "id": "d6e29639-7c25-4992-8cdd-e244c1613e69",
   "metadata": {},
   "outputs": [],
   "source": [
    "df1 = pd.read_csv(url1)"
   ]
  },
  {
   "cell_type": "code",
   "execution_count": null,
   "id": "abacb1b1-bfd7-4c83-b54e-33f47d240953",
   "metadata": {},
   "outputs": [],
   "source": [
    "df2 = pd.read_csv(url2)"
   ]
  },
  {
   "cell_type": "code",
   "execution_count": null,
   "id": "3842a5f6-b258-4116-b40e-fa42346a62a1",
   "metadata": {},
   "outputs": [],
   "source": [
    "df2.shape"
   ]
  },
  {
   "cell_type": "code",
   "execution_count": null,
   "id": "80e368f6-43a1-4ada-a222-2950dd5810c7",
   "metadata": {},
   "outputs": [],
   "source": [
    "df1.shape"
   ]
  },
  {
   "cell_type": "code",
   "execution_count": null,
   "id": "b206f1a5-70fa-4a12-a6b7-e148317faa7f",
   "metadata": {},
   "outputs": [],
   "source": [
    "## frist three\n",
    "df1.head(3)"
   ]
  },
  {
   "cell_type": "code",
   "execution_count": null,
   "id": "16881cd7-3050-4654-b2f0-d2facbea5f67",
   "metadata": {},
   "outputs": [],
   "source": [
    "## last three\n",
    "df1.tail(3)"
   ]
  },
  {
   "cell_type": "code",
   "execution_count": null,
   "id": "172bfa15-08d1-4d93-8116-5db586793756",
   "metadata": {},
   "outputs": [],
   "source": [
    "## refers to a function\n",
    "df1.info()"
   ]
  },
  {
   "cell_type": "code",
   "execution_count": null,
   "id": "ed05b067-2745-456c-b719-2665c4c5e510",
   "metadata": {},
   "outputs": [],
   "source": [
    "df1['Address']"
   ]
  },
  {
   "cell_type": "code",
   "execution_count": null,
   "id": "11fbb8e3-e6e5-4f8e-aed2-0748677543ab",
   "metadata": {},
   "outputs": [],
   "source": [
    "df1['Address'].head(10)"
   ]
  },
  {
   "cell_type": "code",
   "execution_count": null,
   "id": "5d6a76b8-4603-4c67-8da3-f4d4914c1485",
   "metadata": {},
   "outputs": [],
   "source": [
    "df1.columns"
   ]
  },
  {
   "cell_type": "code",
   "execution_count": null,
   "id": "eb8d8702-3b0d-44e4-a313-b319bdfa3645",
   "metadata": {},
   "outputs": [],
   "source": [
    "df2.isna().sum()"
   ]
  },
  {
   "cell_type": "code",
   "execution_count": null,
   "id": "1b277669-6eb5-462b-91ee-dda4d552a6ec",
   "metadata": {},
   "outputs": [],
   "source": [
    "##all numeric coloumns only\n",
    "df1.describe()"
   ]
  },
  {
   "cell_type": "code",
   "execution_count": null,
   "id": "0979955b-97f5-4f7c-96e7-bd6934f11583",
   "metadata": {},
   "outputs": [],
   "source": [
    "# Retrieve the first four rows and first three columns using iloc\n",
    "df1.iloc[0:4, 0:3]"
   ]
  },
  {
   "cell_type": "code",
   "execution_count": null,
   "id": "639d6408-b68a-4380-a2a8-f441c2d3afaa",
   "metadata": {},
   "outputs": [],
   "source": [
    "# Retrieve data using column labels with loc\n",
    "df1.loc[0:4, [\"Avg. Area Income\", \"Avg. Area House Age\"]]"
   ]
  },
  {
   "cell_type": "code",
   "execution_count": null,
   "id": "5c4e02d5-2d87-45c7-80ea-dd5fe31024ed",
   "metadata": {},
   "outputs": [],
   "source": [
    "X = df1.drop('Price', axis=1)"
   ]
  },
  {
   "cell_type": "code",
   "execution_count": null,
   "id": "77c44fcb-261b-48d1-8e2b-0918914bebf0",
   "metadata": {},
   "outputs": [],
   "source": [
    "## test\n",
    "X.head()"
   ]
  },
  {
   "cell_type": "code",
   "execution_count": null,
   "id": "2c334efc-6793-48ac-93ca-095c4b8c5195",
   "metadata": {},
   "outputs": [],
   "source": [
    "X.shape"
   ]
  },
  {
   "cell_type": "code",
   "execution_count": null,
   "id": "ad4fed5c-0a44-496e-a21e-565e7dbf1c25",
   "metadata": {},
   "outputs": [],
   "source": [
    "y = df1['Price']"
   ]
  },
  {
   "cell_type": "code",
   "execution_count": null,
   "id": "8b07ebf4-ceed-4f78-9428-917e021423b3",
   "metadata": {},
   "outputs": [],
   "source": [
    "y.head(10)"
   ]
  },
  {
   "cell_type": "code",
   "execution_count": null,
   "id": "2c26d708-ac01-48f9-887f-ab77a40ba3bd",
   "metadata": {},
   "outputs": [],
   "source": [
    "y.shape"
   ]
  },
  {
   "cell_type": "markdown",
   "id": "19a4c5ca-8fdf-484a-a882-9bc028dff978",
   "metadata": {},
   "source": [
    "# Data Cleaning "
   ]
  },
  {
   "cell_type": "code",
   "execution_count": null,
   "id": "d92ef9c7-f13e-4edf-b600-eeaf30af831a",
   "metadata": {},
   "outputs": [],
   "source": []
  },
  {
   "cell_type": "markdown",
   "id": "8b529dfb-1150-4b01-a2fe-37678bb996cc",
   "metadata": {},
   "source": [
    "# Data integration"
   ]
  },
  {
   "cell_type": "code",
   "execution_count": 2,
   "id": "5ce99a4d-86a3-435b-b802-5b35170e209a",
   "metadata": {},
   "outputs": [],
   "source": [
    "dataset1 = \"https://raw.githubusercontent.com/TrainingByPackt/Data-Science-with-Python/master/Chapter01/Data/student.csv\"\n",
    "dataset2 = \"https://raw.githubusercontent.com/TrainingByPackt/Data-Science-with-Python/master/Chapter01/Data/mark.csv\"\n"
   ]
  },
  {
   "cell_type": "code",
   "execution_count": 9,
   "id": "18621bb9-354f-4bfa-bfb4-d492e207ed98",
   "metadata": {},
   "outputs": [],
   "source": [
    "df1 = pd.read_csv(dataset1)\n",
    "df2 = pd.read_csv(dataset2)"
   ]
  },
  {
   "cell_type": "code",
   "execution_count": 11,
   "id": "d447573c-7bb5-4800-aa6f-1876b4f1f580",
   "metadata": {},
   "outputs": [
    {
     "name": "stdout",
     "output_type": "stream",
     "text": [
      "Student Dataset (df1):\n"
     ]
    },
    {
     "data": {
      "text/html": [
       "<div>\n",
       "<style scoped>\n",
       "    .dataframe tbody tr th:only-of-type {\n",
       "        vertical-align: middle;\n",
       "    }\n",
       "\n",
       "    .dataframe tbody tr th {\n",
       "        vertical-align: top;\n",
       "    }\n",
       "\n",
       "    .dataframe thead th {\n",
       "        text-align: right;\n",
       "    }\n",
       "</style>\n",
       "<table border=\"1\" class=\"dataframe\">\n",
       "  <thead>\n",
       "    <tr style=\"text-align: right;\">\n",
       "      <th></th>\n",
       "      <th>Student_id</th>\n",
       "      <th>Age</th>\n",
       "      <th>Gender</th>\n",
       "      <th>Grade</th>\n",
       "      <th>Employed</th>\n",
       "    </tr>\n",
       "  </thead>\n",
       "  <tbody>\n",
       "    <tr>\n",
       "      <th>0</th>\n",
       "      <td>1</td>\n",
       "      <td>19</td>\n",
       "      <td>Male</td>\n",
       "      <td>1st Class</td>\n",
       "      <td>yes</td>\n",
       "    </tr>\n",
       "    <tr>\n",
       "      <th>1</th>\n",
       "      <td>2</td>\n",
       "      <td>20</td>\n",
       "      <td>Female</td>\n",
       "      <td>2nd Class</td>\n",
       "      <td>no</td>\n",
       "    </tr>\n",
       "    <tr>\n",
       "      <th>2</th>\n",
       "      <td>3</td>\n",
       "      <td>18</td>\n",
       "      <td>Male</td>\n",
       "      <td>1st Class</td>\n",
       "      <td>no</td>\n",
       "    </tr>\n",
       "    <tr>\n",
       "      <th>3</th>\n",
       "      <td>4</td>\n",
       "      <td>21</td>\n",
       "      <td>Female</td>\n",
       "      <td>2nd Class</td>\n",
       "      <td>no</td>\n",
       "    </tr>\n",
       "    <tr>\n",
       "      <th>4</th>\n",
       "      <td>5</td>\n",
       "      <td>19</td>\n",
       "      <td>Male</td>\n",
       "      <td>1st Class</td>\n",
       "      <td>no</td>\n",
       "    </tr>\n",
       "  </tbody>\n",
       "</table>\n",
       "</div>"
      ],
      "text/plain": [
       "   Student_id  Age  Gender      Grade Employed\n",
       "0           1   19    Male  1st Class      yes\n",
       "1           2   20  Female  2nd Class       no\n",
       "2           3   18    Male  1st Class       no\n",
       "3           4   21  Female  2nd Class       no\n",
       "4           5   19    Male  1st Class       no"
      ]
     },
     "metadata": {},
     "output_type": "display_data"
    }
   ],
   "source": [
    "# Step 4: Display the first 5 rows of df1 (student data)\n",
    "print(\"Student Dataset (df1):\")\n",
    "display(df1.head())"
   ]
  },
  {
   "cell_type": "code",
   "execution_count": 13,
   "id": "58bd17d7-2efb-48bd-82c8-38bcaebf952d",
   "metadata": {},
   "outputs": [
    {
     "name": "stdout",
     "output_type": "stream",
     "text": [
      "Marks Dataset (df2):\n"
     ]
    },
    {
     "data": {
      "text/html": [
       "<div>\n",
       "<style scoped>\n",
       "    .dataframe tbody tr th:only-of-type {\n",
       "        vertical-align: middle;\n",
       "    }\n",
       "\n",
       "    .dataframe tbody tr th {\n",
       "        vertical-align: top;\n",
       "    }\n",
       "\n",
       "    .dataframe thead th {\n",
       "        text-align: right;\n",
       "    }\n",
       "</style>\n",
       "<table border=\"1\" class=\"dataframe\">\n",
       "  <thead>\n",
       "    <tr style=\"text-align: right;\">\n",
       "      <th></th>\n",
       "      <th>Student_id</th>\n",
       "      <th>Mark</th>\n",
       "      <th>City</th>\n",
       "    </tr>\n",
       "  </thead>\n",
       "  <tbody>\n",
       "    <tr>\n",
       "      <th>0</th>\n",
       "      <td>1</td>\n",
       "      <td>95</td>\n",
       "      <td>Chennai</td>\n",
       "    </tr>\n",
       "    <tr>\n",
       "      <th>1</th>\n",
       "      <td>2</td>\n",
       "      <td>70</td>\n",
       "      <td>Delhi</td>\n",
       "    </tr>\n",
       "    <tr>\n",
       "      <th>2</th>\n",
       "      <td>3</td>\n",
       "      <td>98</td>\n",
       "      <td>Mumbai</td>\n",
       "    </tr>\n",
       "    <tr>\n",
       "      <th>3</th>\n",
       "      <td>4</td>\n",
       "      <td>75</td>\n",
       "      <td>Pune</td>\n",
       "    </tr>\n",
       "    <tr>\n",
       "      <th>4</th>\n",
       "      <td>5</td>\n",
       "      <td>89</td>\n",
       "      <td>Kochi</td>\n",
       "    </tr>\n",
       "  </tbody>\n",
       "</table>\n",
       "</div>"
      ],
      "text/plain": [
       "   Student_id  Mark     City\n",
       "0           1    95  Chennai\n",
       "1           2    70    Delhi\n",
       "2           3    98   Mumbai\n",
       "3           4    75     Pune\n",
       "4           5    89    Kochi"
      ]
     },
     "metadata": {},
     "output_type": "display_data"
    }
   ],
   "source": [
    "# Step 5: Display the first 5 rows of df2 (marks data)\n",
    "print(\"Marks Dataset (df2):\")\n",
    "display(df2.head())"
   ]
  },
  {
   "cell_type": "code",
   "execution_count": 15,
   "id": "4b4fb77d-2f61-46a5-a6c9-24ffaafb58a9",
   "metadata": {},
   "outputs": [],
   "source": [
    "# Step 6: Merge both DataFrames on the 'Student_id' column\n",
    "df = pd.merge(df1, df2, on='Student_id')"
   ]
  },
  {
   "cell_type": "code",
   "execution_count": 17,
   "id": "048e05bb-689e-4325-9ddf-3f4c962df7d1",
   "metadata": {},
   "outputs": [
    {
     "name": "stdout",
     "output_type": "stream",
     "text": [
      "Merged Dataset (df):\n"
     ]
    },
    {
     "data": {
      "text/html": [
       "<div>\n",
       "<style scoped>\n",
       "    .dataframe tbody tr th:only-of-type {\n",
       "        vertical-align: middle;\n",
       "    }\n",
       "\n",
       "    .dataframe tbody tr th {\n",
       "        vertical-align: top;\n",
       "    }\n",
       "\n",
       "    .dataframe thead th {\n",
       "        text-align: right;\n",
       "    }\n",
       "</style>\n",
       "<table border=\"1\" class=\"dataframe\">\n",
       "  <thead>\n",
       "    <tr style=\"text-align: right;\">\n",
       "      <th></th>\n",
       "      <th>Student_id</th>\n",
       "      <th>Age</th>\n",
       "      <th>Gender</th>\n",
       "      <th>Grade</th>\n",
       "      <th>Employed</th>\n",
       "      <th>Mark</th>\n",
       "      <th>City</th>\n",
       "    </tr>\n",
       "  </thead>\n",
       "  <tbody>\n",
       "    <tr>\n",
       "      <th>0</th>\n",
       "      <td>1</td>\n",
       "      <td>19</td>\n",
       "      <td>Male</td>\n",
       "      <td>1st Class</td>\n",
       "      <td>yes</td>\n",
       "      <td>95</td>\n",
       "      <td>Chennai</td>\n",
       "    </tr>\n",
       "    <tr>\n",
       "      <th>1</th>\n",
       "      <td>2</td>\n",
       "      <td>20</td>\n",
       "      <td>Female</td>\n",
       "      <td>2nd Class</td>\n",
       "      <td>no</td>\n",
       "      <td>70</td>\n",
       "      <td>Delhi</td>\n",
       "    </tr>\n",
       "    <tr>\n",
       "      <th>2</th>\n",
       "      <td>3</td>\n",
       "      <td>18</td>\n",
       "      <td>Male</td>\n",
       "      <td>1st Class</td>\n",
       "      <td>no</td>\n",
       "      <td>98</td>\n",
       "      <td>Mumbai</td>\n",
       "    </tr>\n",
       "    <tr>\n",
       "      <th>3</th>\n",
       "      <td>4</td>\n",
       "      <td>21</td>\n",
       "      <td>Female</td>\n",
       "      <td>2nd Class</td>\n",
       "      <td>no</td>\n",
       "      <td>75</td>\n",
       "      <td>Pune</td>\n",
       "    </tr>\n",
       "    <tr>\n",
       "      <th>4</th>\n",
       "      <td>5</td>\n",
       "      <td>19</td>\n",
       "      <td>Male</td>\n",
       "      <td>1st Class</td>\n",
       "      <td>no</td>\n",
       "      <td>89</td>\n",
       "      <td>Kochi</td>\n",
       "    </tr>\n",
       "    <tr>\n",
       "      <th>5</th>\n",
       "      <td>6</td>\n",
       "      <td>20</td>\n",
       "      <td>Male</td>\n",
       "      <td>2nd Class</td>\n",
       "      <td>yes</td>\n",
       "      <td>69</td>\n",
       "      <td>Gwalior</td>\n",
       "    </tr>\n",
       "    <tr>\n",
       "      <th>6</th>\n",
       "      <td>7</td>\n",
       "      <td>19</td>\n",
       "      <td>Female</td>\n",
       "      <td>3rd Class</td>\n",
       "      <td>yes</td>\n",
       "      <td>52</td>\n",
       "      <td>Bhopal</td>\n",
       "    </tr>\n",
       "    <tr>\n",
       "      <th>7</th>\n",
       "      <td>8</td>\n",
       "      <td>21</td>\n",
       "      <td>Male</td>\n",
       "      <td>3rd Class</td>\n",
       "      <td>yes</td>\n",
       "      <td>54</td>\n",
       "      <td>Chennai</td>\n",
       "    </tr>\n",
       "    <tr>\n",
       "      <th>8</th>\n",
       "      <td>9</td>\n",
       "      <td>22</td>\n",
       "      <td>Female</td>\n",
       "      <td>3rd Class</td>\n",
       "      <td>yes</td>\n",
       "      <td>55</td>\n",
       "      <td>Delhi</td>\n",
       "    </tr>\n",
       "    <tr>\n",
       "      <th>9</th>\n",
       "      <td>10</td>\n",
       "      <td>21</td>\n",
       "      <td>Male</td>\n",
       "      <td>1st Class</td>\n",
       "      <td>no</td>\n",
       "      <td>94</td>\n",
       "      <td>Mumbai</td>\n",
       "    </tr>\n",
       "  </tbody>\n",
       "</table>\n",
       "</div>"
      ],
      "text/plain": [
       "   Student_id  Age  Gender      Grade Employed  Mark     City\n",
       "0           1   19    Male  1st Class      yes    95  Chennai\n",
       "1           2   20  Female  2nd Class       no    70    Delhi\n",
       "2           3   18    Male  1st Class       no    98   Mumbai\n",
       "3           4   21  Female  2nd Class       no    75     Pune\n",
       "4           5   19    Male  1st Class       no    89    Kochi\n",
       "5           6   20    Male  2nd Class      yes    69  Gwalior\n",
       "6           7   19  Female  3rd Class      yes    52   Bhopal\n",
       "7           8   21    Male  3rd Class      yes    54  Chennai\n",
       "8           9   22  Female  3rd Class      yes    55    Delhi\n",
       "9          10   21    Male  1st Class       no    94   Mumbai"
      ]
     },
     "metadata": {},
     "output_type": "display_data"
    }
   ],
   "source": [
    "print(\"Merged Dataset (df):\")\n",
    "display(df.head(10))"
   ]
  },
  {
   "cell_type": "code",
   "execution_count": null,
   "id": "24210b4c-5e6e-4219-b183-99a7014a226e",
   "metadata": {},
   "outputs": [],
   "source": []
  }
 ],
 "metadata": {
  "kernelspec": {
   "display_name": "Python [conda env:base] *",
   "language": "python",
   "name": "conda-base-py"
  },
  "language_info": {
   "codemirror_mode": {
    "name": "ipython",
    "version": 3
   },
   "file_extension": ".py",
   "mimetype": "text/x-python",
   "name": "python",
   "nbconvert_exporter": "python",
   "pygments_lexer": "ipython3",
   "version": "3.12.7"
  }
 },
 "nbformat": 4,
 "nbformat_minor": 5
}
